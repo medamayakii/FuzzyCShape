{
  "cells": [
    {
      "cell_type": "code",
      "execution_count": null,
      "metadata": {
        "colab": {
          "base_uri": "https://localhost:8080/"
        },
        "id": "Cif_1A_0H6L9",
        "outputId": "e575ca0b-01f3-4429-df14-fffef42b91e3"
      },
      "outputs": [],
      "source": [
        "!conda install -c conda-forge tslearn"
      ]
    },
    {
      "cell_type": "code",
      "execution_count": null,
      "metadata": {
        "id": "gMBmvnSQTuN7"
      },
      "outputs": [],
      "source": [
        "import numpy as np\n",
        "import pandas as pd\n",
        "import matplotlib.pyplot as plt\n",
        "import scipy.spatial.distance as dist\n",
        "from scipy import fftpack as fp\n",
        "from scipy import linalg\n",
        "\n",
        "from tslearn.clustering import KShape\n",
        "from tslearn.datasets import CachedDatasets\n",
        "from tslearn.preprocessing import TimeSeriesScalerMeanVariance"
      ]
    },
    {
      "cell_type": "code",
      "execution_count": null,
      "metadata": {
        "colab": {
          "base_uri": "https://localhost:8080/",
          "height": 335
        },
        "id": "KYOU_K8HHzH3",
        "outputId": "00929dd1-0ff8-41dc-acca-f0d6fd3254ac"
      },
      "outputs": [],
      "source": [
        "seed = 0\n",
        "np.random.seed(seed)\n",
        "X_train, y_train, X_test, y_test = CachedDatasets().load_dataset(\"Trace\")\n",
        "# Keep first 3 classes and 50 first time series\n",
        "X_train = X_train[y_train < 4]\n",
        "X_train = X_train[:50]\n",
        "np.random.shuffle(X_train)\n",
        "# For this method to operate properly, prior scaling is required\n",
        "X_train = TimeSeriesScalerMeanVariance().fit_transform(X_train)\n",
        "sz = X_train.shape[1]\n",
        "\n",
        "# kShape clustering\n",
        "ks = KShape(n_clusters=3, verbose=True, random_state=seed)\n",
        "y_pred = ks.fit_predict(X_train)\n",
        "\n",
        "plt.figure()\n",
        "for yi in range(3):\n",
        "    plt.subplot(3, 1, 1 + yi)\n",
        "    for xx in X_train[y_pred == yi]:\n",
        "        plt.plot(xx.ravel(), \"k-\", alpha=.2)\n",
        "    plt.plot(ks.cluster_centers_[yi].ravel(), \"r-\")\n",
        "    plt.xlim(0, sz)\n",
        "    plt.ylim(-4, 4)\n",
        "    plt.title(\"Cluster %d\" % (yi + 1))\n",
        "\n",
        "plt.tight_layout()\n",
        "plt.show()"
      ]
    },
    {
      "cell_type": "code",
      "execution_count": null,
      "metadata": {
        "colab": {
          "base_uri": "https://localhost:8080/"
        },
        "id": "1NvNKD8gRRLg",
        "outputId": "23300e17-a979-4fe6-8c3a-66d8ba3d1853"
      },
      "outputs": [],
      "source": [
        "X_train = TimeSeriesScalerMeanVariance().fit_transform(X_train)\n",
        "X_train = X_train.reshape(50, 275)\n",
        "#X_train = pd.DataFrame(X_train)\n",
        "X_train.shape"
      ]
    },
    {
      "cell_type": "code",
      "execution_count": null,
      "metadata": {
        "id": "GWQQwPREMDME"
      },
      "outputs": [],
      "source": [
        "# fuzzy c-meansの定義\n",
        "def fcm(X, C, THETA, max_iter):\n",
        "    plt.figure(figsize=(16, 12))\n",
        "    n, m = X.shape\n",
        "    # メンバシップ値の初期化\n",
        "    u = np.random.rand(C, n)\n",
        "    u /= u.sum(axis=0)\n",
        "\n",
        "    step = 0\n",
        "    # for step in range(5):\n",
        "    while step < max_iter:\n",
        "        step += 1\n",
        "        # u^θを先に計算しておく\n",
        "        u_theta = u**THETA\n",
        "        # クラスタ中心の計算\n",
        "        b = u_theta @ X / u_theta.sum(1)[:, np.newaxis]\n",
        "        # メンバシップ行列の更新\n",
        "        d = dist.cdist(b, X)\n",
        "\n",
        "        u = d**(-2/(THETA-1.0))\n",
        "        u /= u.sum(axis=0)\n",
        "\n",
        "        vpc = (u**2).sum() / n\n",
        "\n",
        "        # 目的関数の計算\n",
        "        obj = ((u**THETA) * d**2).sum()\n",
        "\n",
        "        if abs(obj_prev - obj) < 1e-5:\n",
        "            break\n",
        "        else:\n",
        "            obj_prev = obj\n",
        "\n",
        "    for yi in range(C):\n",
        "        plt.subplot(C, 1, 1 + yi)\n",
        "        for xx in range(n):\n",
        "            plt.plot(X_train[xx], \"k-\", alpha=u[yi, xx])\n",
        "        plt.plot(b[yi], \"r-\")\n",
        "        plt.xlim(0, b.shape[1])\n",
        "        plt.ylim(-4, 4)\n",
        "        plt.title(\"Cluster %d\" % (yi + 1))\n",
        "\n",
        "    return u, b, d, step, vpc, obj\n",
        "\n",
        "\n",
        "# fuzzy c-shape+の定義\n",
        "def fcs_plus(X, C, THETA, max_iter):\n",
        "    plt.figure(figsize=(16, 12))\n",
        "    n, m = X.shape\n",
        "    # メンバシップ値の初期化\n",
        "    u = np.random.rand(C, n)\n",
        "    u /= u.sum(axis=0)\n",
        "\n",
        "    step = 0\n",
        "    obj_prev = np.inf\n",
        "    # for step in range(5):\n",
        "    while step < max_iter:\n",
        "        step += 1\n",
        "        # u^θを先に計算しておく\n",
        "        u_theta = u**THETA\n",
        "        # クラスタ中心の計算\n",
        "        b = u_theta @ X / u_theta.sum(1)[:, np.newaxis]\n",
        "        # メンバシップ行列の更新\n",
        "        #d = dist.cdist(b, X)\n",
        "        d = np.array([[get_SBD(b[j], X[i]) for i in range(n)] for j in range(C)])\n",
        "\n",
        "        u = d**(-2/(THETA-1.0))\n",
        "        u /= u.sum(axis=0)\n",
        "\n",
        "        vpc = (u**2).sum() / n\n",
        "\n",
        "        # 目的関数の計算\n",
        "        obj = ((u**THETA) * d**2).sum()\n",
        "\n",
        "        if abs(obj_prev - obj) < 1e-5:\n",
        "            break\n",
        "        else:\n",
        "            obj_prev = obj\n",
        "\n",
        "    for yi in range(C):\n",
        "        plt.subplot(C, 1, 1 + yi)\n",
        "        for xx in range(n):\n",
        "            plt.plot(X_train[xx], \"k-\", alpha=u[yi, xx])\n",
        "        plt.plot(b[yi], \"r-\")\n",
        "        plt.xlim(0, b.shape[1])\n",
        "        plt.ylim(-4, 4)\n",
        "        plt.title(\"Cluster %d\" % (yi + 1))\n",
        "\n",
        "    return u, b, d, step, vpc, obj\n",
        "\n",
        "\n",
        "# Function for getting a shape-based distance (SBD)\n",
        "def get_SBD(x, y):\n",
        "\n",
        "    # Define FFT-size based on the length of input\n",
        "    p = int(x.shape[0])\n",
        "    FFTlen = int(2**np.ceil(np.log2(2*p-1)))\n",
        "\n",
        "    # Compute the normalized cross-correlation function (NCC)\n",
        "    CC = fp.ifft(fp.fft(x, FFTlen)*fp.fft(y, FFTlen).conjugate()).real\n",
        "\n",
        "    # Reorder the IFFT result\n",
        "    CC = np.concatenate((CC[-(p-1):], CC[:p]), axis=0)\n",
        "\n",
        "    # To avoid zero division\n",
        "    denom = linalg.norm(x) * linalg.norm(y)\n",
        "    if denom < 1e-10:\n",
        "        denom = np.inf\n",
        "    NCC = CC / denom\n",
        "\n",
        "    # Search for the argument to maximize NCC\n",
        "    ndx = np.argmax(NCC, axis=0)\n",
        "    dist = 1 - NCC[ndx]\n",
        "\n",
        "    return dist"
      ]
    },
    {
      "cell_type": "code",
      "execution_count": null,
      "metadata": {
        "colab": {
          "base_uri": "https://localhost:8080/",
          "height": 734
        },
        "id": "DOuLH2o-Nj62",
        "outputId": "e3de6a41-d4dd-4b5f-8e47-0c8a0644cedf"
      },
      "outputs": [],
      "source": [
        "u, b, d = fcm(X_train, C=3, THETA=2, max_iter=200)\n",
        "u.shape, b.shape, d.shape, X_train.shape"
      ]
    },
    {
      "cell_type": "code",
      "execution_count": null,
      "metadata": {
        "colab": {
          "base_uri": "https://localhost:8080/",
          "height": 1000
        },
        "id": "uiLrkAWCaIGX",
        "outputId": "550766a2-1dff-4483-9d63-411d1885bf4b"
      },
      "outputs": [],
      "source": [
        "distortions = []\n",
        "for c in range(2, 10):\n",
        "    u, b, d, s, vpc, sse = fcs_plus(X_train, C=c, THETA=2, max_iter=100)\n",
        "    vmpc = 1 - c/(c-1)*(1-vpc)\n",
        "    distortions.append(sse)\n",
        "    print(c, s, vpc, vmpc, sse)"
      ]
    },
    {
      "cell_type": "code",
      "execution_count": null,
      "metadata": {
        "colab": {
          "base_uri": "https://localhost:8080/",
          "height": 279
        },
        "id": "dnuQLdAOd5dl",
        "outputId": "c9979639-b9c4-4add-de03-3b32a8f918aa"
      },
      "outputs": [],
      "source": [
        "plt.plot(range(2, 10), distortions, marker='o')\n",
        "plt.xlabel('Number of clusters')\n",
        "plt.ylabel('Distortion')\n",
        "plt.show()"
      ]
    },
    {
      "cell_type": "code",
      "execution_count": null,
      "metadata": {
        "colab": {
          "base_uri": "https://localhost:8080/",
          "height": 734
        },
        "id": "yfJc7Ui8z1_c",
        "outputId": "854a9c0e-101a-47cc-8d93-975b6e3f5c3b"
      },
      "outputs": [],
      "source": [
        "u, b, d, s, vpc, sse = fcs_plus(X_train, C=4, THETA=2, max_iter=100)\n",
        "u.shape, b.shape, d.shape, s, vpc"
      ]
    },
    {
      "cell_type": "code",
      "execution_count": null,
      "metadata": {
        "colab": {
          "base_uri": "https://localhost:8080/",
          "height": 237
        },
        "id": "7oAJsj95rDzG",
        "outputId": "5a36556b-2b8b-4d1a-c77f-586e095d54f6"
      },
      "outputs": [],
      "source": [
        "pd.DataFrame(u)"
      ]
    },
    {
      "cell_type": "code",
      "execution_count": null,
      "metadata": {
        "colab": {
          "base_uri": "https://localhost:8080/",
          "height": 237
        },
        "id": "kXShkBZgrdMz",
        "outputId": "71119256-42e1-48e7-faf8-dbafabbec414"
      },
      "outputs": [],
      "source": [
        "pd.DataFrame(b)"
      ]
    },
    {
      "cell_type": "code",
      "execution_count": null,
      "metadata": {
        "colab": {
          "base_uri": "https://localhost:8080/"
        },
        "id": "NwyLlG2GrzaF",
        "outputId": "54e54197-e73f-4ceb-8a35-a0070d3ac658"
      },
      "outputs": [],
      "source": [
        "X_train[0]"
      ]
    },
    {
      "cell_type": "code",
      "execution_count": null,
      "metadata": {
        "colab": {
          "base_uri": "https://localhost:8080/",
          "height": 1000
        },
        "id": "gJA2KtHWvMls",
        "outputId": "97a742ba-27d3-4ff0-8a94-d4784e002e08"
      },
      "outputs": [],
      "source": [
        "pd.DataFrame(X_train)"
      ]
    }
  ],
  "metadata": {
    "colab": {
      "collapsed_sections": [],
      "provenance": []
    },
    "kernelspec": {
      "display_name": "Python 3.9.13 ('py39')",
      "language": "python",
      "name": "python3"
    },
    "language_info": {
      "name": "python",
      "version": "3.9.13 | packaged by conda-forge | (main, May 27 2022, 17:01:00) \n[Clang 13.0.1 ]"
    },
    "vscode": {
      "interpreter": {
        "hash": "11d2b8c38aa43db387348025fef1747e8673690a31bf7a70b7501831b607f29f"
      }
    }
  },
  "nbformat": 4,
  "nbformat_minor": 0
}
